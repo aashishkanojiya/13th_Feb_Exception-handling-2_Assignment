{
  "nbformat": 4,
  "nbformat_minor": 0,
  "metadata": {
    "colab": {
      "provenance": []
    },
    "kernelspec": {
      "name": "python3",
      "display_name": "Python 3"
    },
    "language_info": {
      "name": "python"
    }
  },
  "cells": [
    {
      "cell_type": "markdown",
      "source": [
        "Q1. Explain why we have to use the Exception class while creating a Custom Exception.\n"
      ],
      "metadata": {
        "id": "4vhVRLVuyGOX"
      }
    },
    {
      "cell_type": "markdown",
      "source": [
        "Answer:-The Exception class is the base class for all built-in exceptions in Python. When you create a custom exception, you should inherit from the Exception class so that your custom exception is a subclass of the Exception class.\n",
        "\n",
        "By inheriting from the Exception class, your custom exception will be able to take advantage of the behavior and functionality that is already built into the Exception class. This includes the ability to be raised and caught with a try/except block, and the ability to store and retrieve error messages associated with the exception.\n",
        "\n",
        "Inheriting from the Exception class also makes it easier to catch specific types of exceptions in your code. For example, you could catch all exceptions that are subclasses of Exception using a single except block, or you could catch only specific types of exceptions by catching their corresponding custom exceptions."
      ],
      "metadata": {
        "id": "DeuzI9bJyP-C"
      }
    },
    {
      "cell_type": "markdown",
      "source": [
        "Q2. Write a python program to print Python Exception Hierarchy."
      ],
      "metadata": {
        "id": "zezgWhamyURm"
      }
    },
    {
      "cell_type": "markdown",
      "source": [
        "Answer:-"
      ],
      "metadata": {
        "id": "QHUptyklyUt9"
      }
    },
    {
      "cell_type": "code",
      "source": [
        "\n",
        "def print_exception_hierarchy(exception, indentation=0):\n",
        "    print(\" \" * indentation + exception.__name__)\n",
        "    for subclass in exception.__subclasses__():\n",
        "        print_exception_hierarchy(subclass, indentation + 4)\n",
        "\n",
        "print_exception_hierarchy(Exception)"
      ],
      "metadata": {
        "colab": {
          "base_uri": "https://localhost:8080/"
        },
        "id": "ovH2Iiu6zGVU",
        "outputId": "c49cdb1d-db19-4c90-d2fc-98411afaa377"
      },
      "execution_count": 1,
      "outputs": [
        {
          "output_type": "stream",
          "name": "stdout",
          "text": [
            "Exception\n",
            "    TypeError\n",
            "        MultipartConversionError\n",
            "        FloatOperation\n",
            "        DTypePromotionError\n",
            "        UFuncTypeError\n",
            "            UFuncTypeError\n",
            "                UFuncTypeError\n",
            "            UFuncTypeError\n",
            "                UFuncTypeError\n",
            "                UFuncTypeError\n",
            "        ConversionError\n",
            "    StopAsyncIteration\n",
            "    StopIteration\n",
            "    ImportError\n",
            "        ModuleNotFoundError\n",
            "            PackageNotFoundError\n",
            "            PackageNotFoundError\n",
            "        ZipImportError\n",
            "    OSError\n",
            "        ConnectionError\n",
            "            BrokenPipeError\n",
            "            ConnectionAbortedError\n",
            "            ConnectionRefusedError\n",
            "            ConnectionResetError\n",
            "                RemoteDisconnected\n",
            "        BlockingIOError\n",
            "        ChildProcessError\n",
            "        FileExistsError\n",
            "        FileNotFoundError\n",
            "            ExecutableNotFoundError\n",
            "        IsADirectoryError\n",
            "        NotADirectoryError\n",
            "        InterruptedError\n",
            "            InterruptedSystemCall\n",
            "        PermissionError\n",
            "        ProcessLookupError\n",
            "        TimeoutError\n",
            "        UnsupportedOperation\n",
            "        itimer_error\n",
            "        Error\n",
            "            SameFileError\n",
            "        SpecialFileError\n",
            "        ExecError\n",
            "        ReadError\n",
            "        herror\n",
            "        gaierror\n",
            "        SSLError\n",
            "            SSLCertVerificationError\n",
            "            SSLZeroReturnError\n",
            "            SSLWantWriteError\n",
            "            SSLWantReadError\n",
            "            SSLSyscallError\n",
            "            SSLEOFError\n",
            "        URLError\n",
            "            HTTPError\n",
            "            ContentTooShortError\n",
            "        UnidentifiedImageError\n",
            "        BadGzipFile\n",
            "        ProxyError\n",
            "            GeneralProxyError\n",
            "            ProxyConnectionError\n",
            "            SOCKS5AuthError\n",
            "            SOCKS5Error\n",
            "            SOCKS4Error\n",
            "            HTTPError\n",
            "    EOFError\n",
            "        IncompleteReadError\n",
            "    RuntimeError\n",
            "        RecursionError\n",
            "        NotImplementedError\n",
            "            StdinNotImplementedError\n",
            "            ZMQVersionError\n",
            "        _DeadlockError\n",
            "        BrokenBarrierError\n",
            "        BrokenExecutor\n",
            "            BrokenThreadPool\n",
            "        SendfileNotAvailableError\n",
            "        RemovedCommandError\n",
            "        PackageDiscoveryError\n",
            "        TooHardError\n",
            "        VariableError\n",
            "    NameError\n",
            "        UnboundLocalError\n",
            "    AttributeError\n",
            "        FrozenInstanceError\n",
            "    SyntaxError\n",
            "        IndentationError\n",
            "            TabError\n",
            "        ParseError\n",
            "    LookupError\n",
            "        IndexError\n",
            "            AxisError\n",
            "            OutOfBounds\n",
            "        KeyError\n",
            "            UnknownBackend\n",
            "            NoSuchKernel\n",
            "        CodecRegistryError\n",
            "    ValueError\n",
            "        UnicodeError\n",
            "            UnicodeEncodeError\n",
            "            UnicodeDecodeError\n",
            "            UnicodeTranslateError\n",
            "        UnsupportedOperation\n",
            "        JSONDecodeError\n",
            "        UnsupportedDigestmodError\n",
            "        Error\n",
            "        IllegalMonthError\n",
            "        IllegalWeekdayError\n",
            "        MessageDefect\n",
            "            NoBoundaryInMultipartDefect\n",
            "            StartBoundaryNotFoundDefect\n",
            "            CloseBoundaryNotFoundDefect\n",
            "            FirstHeaderLineIsContinuationDefect\n",
            "            MisplacedEnvelopeHeaderDefect\n",
            "            MissingHeaderBodySeparatorDefect\n",
            "            MultipartInvariantViolationDefect\n",
            "            InvalidMultipartContentTransferEncodingDefect\n",
            "            UndecodableBytesDefect\n",
            "            InvalidBase64PaddingDefect\n",
            "            InvalidBase64CharactersDefect\n",
            "            InvalidBase64LengthDefect\n",
            "            HeaderDefect\n",
            "                InvalidHeaderDefect\n",
            "                HeaderMissingRequiredValue\n",
            "                NonPrintableDefect\n",
            "                ObsoleteHeaderDefect\n",
            "                NonASCIILocalPartDefect\n",
            "                InvalidDateDefect\n",
            "        ClassNotFound\n",
            "        SSLCertVerificationError\n",
            "        ClipboardEmpty\n",
            "        MacroToEdit\n",
            "        ParserError\n",
            "        UnequalIterablesError\n",
            "        UnequalIterablesError\n",
            "        ELFInvalid\n",
            "        InvalidVersion\n",
            "        InvalidName\n",
            "        InvalidWheelFilename\n",
            "        InvalidSdistFilename\n",
            "        InvalidSpecifier\n",
            "        InvalidMarker\n",
            "        UndefinedComparison\n",
            "        UndefinedEnvironmentName\n",
            "        InvalidRequirement\n",
            "        DisabledFunctionError\n",
            "        AxisError\n",
            "        LinAlgError\n",
            "        DefusedXmlException\n",
            "            DTDForbidden\n",
            "            EntitiesForbidden\n",
            "            ExternalReferenceForbidden\n",
            "            NotSupportedError\n",
            "        NonIntersectingPathException\n",
            "    AssertionError\n",
            "    ArithmeticError\n",
            "        FloatingPointError\n",
            "        OverflowError\n",
            "        ZeroDivisionError\n",
            "            DivisionByZero\n",
            "            DivisionUndefined\n",
            "        DecimalException\n",
            "            Clamped\n",
            "            Rounded\n",
            "                Underflow\n",
            "                Overflow\n",
            "            Inexact\n",
            "                Underflow\n",
            "                Overflow\n",
            "            Subnormal\n",
            "                Underflow\n",
            "            DivisionByZero\n",
            "            FloatOperation\n",
            "            InvalidOperation\n",
            "                ConversionSyntax\n",
            "                DivisionImpossible\n",
            "                DivisionUndefined\n",
            "                InvalidContext\n",
            "    SystemError\n",
            "        CodecRegistryError\n",
            "    ReferenceError\n",
            "    MemoryError\n",
            "        MemoryError\n",
            "    BufferError\n",
            "    Warning\n",
            "        UserWarning\n",
            "            GetPassWarning\n",
            "            FormatterWarning\n",
            "            SetuptoolsWarning\n",
            "                InformationOnly\n",
            "                SetuptoolsDeprecationWarning\n",
            "                    _AmbiguousMarker\n",
            "                    _DeprecatedConfig\n",
            "                    DistDeprecationWarning\n",
            "                _MissingDynamic\n",
            "                _ExperimentalConfiguration\n",
            "                _ToolsTypoInMetadata\n",
            "            VisibleDeprecationWarning\n",
            "            RankWarning\n",
            "            ConversionWarning\n",
            "            RankWarning\n",
            "        EncodingWarning\n",
            "        DeprecationWarning\n",
            "            ProvisionalWarning\n",
            "            ModuleDeprecationWarning\n",
            "            MatplotlibDeprecationWarning\n",
            "        PendingDeprecationWarning\n",
            "        SyntaxWarning\n",
            "        RuntimeWarning\n",
            "            ProactorSelectorThreadWarning\n",
            "            UnknownTimezoneWarning\n",
            "            ComplexWarning\n",
            "            DecompressionBombWarning\n",
            "        FutureWarning\n",
            "            ProvisionalCompleterWarning\n",
            "            MaskedArrayFutureWarning\n",
            "        ImportWarning\n",
            "        UnicodeWarning\n",
            "        BytesWarning\n",
            "        ResourceWarning\n",
            "        DeprecatedTzFormatWarning\n",
            "    _OptionError\n",
            "    error\n",
            "    Verbose\n",
            "    Error\n",
            "    _Error\n",
            "    SubprocessError\n",
            "        CalledProcessError\n",
            "        TimeoutExpired\n",
            "    Error\n",
            "    TokenError\n",
            "    StopTokenizing\n",
            "    error\n",
            "    LZMAError\n",
            "    RegistryError\n",
            "    _GiveupOnFastCopy\n",
            "    ClassFoundException\n",
            "    EndOfBlock\n",
            "    TraitError\n",
            "    _GiveupOnSendfile\n",
            "    error\n",
            "    PickleError\n",
            "        PicklingError\n",
            "        UnpicklingError\n",
            "    _Stop\n",
            "    Empty\n",
            "    Full\n",
            "    ArgumentError\n",
            "    ArgumentTypeError\n",
            "    ConfigError\n",
            "        ConfigLoaderError\n",
            "            ArgumentError\n",
            "        ConfigFileNotFound\n",
            "    ConfigurableError\n",
            "        MultipleInstanceError\n",
            "    ApplicationError\n",
            "    ErrorDuringImport\n",
            "    BdbQuit\n",
            "    Restart\n",
            "    ExceptionPexpect\n",
            "        EOF\n",
            "        TIMEOUT\n",
            "    error\n",
            "    PtyProcessError\n",
            "    FindCmdError\n",
            "    HomeDirError\n",
            "    ProfileDirError\n",
            "    IPythonCoreError\n",
            "        TryNext\n",
            "        UsageError\n",
            "        StdinNotImplementedError\n",
            "    InputRejected\n",
            "    GetoptError\n",
            "    Incomplete\n",
            "    Error\n",
            "    BadZipFile\n",
            "    LargeZipFile\n",
            "    Error\n",
            "    MessageError\n",
            "        MessageParseError\n",
            "            HeaderParseError\n",
            "                _InvalidEwError\n",
            "            BoundaryError\n",
            "        MultipartConversionError\n",
            "        CharsetError\n",
            "        HeaderWriteError\n",
            "    OptionError\n",
            "    ErrorToken\n",
            "    PrefilterError\n",
            "    AliasError\n",
            "        InvalidAliasError\n",
            "    Error\n",
            "        InterfaceError\n",
            "        DatabaseError\n",
            "            InternalError\n",
            "            OperationalError\n",
            "            ProgrammingError\n",
            "            IntegrityError\n",
            "            DataError\n",
            "            NotSupportedError\n",
            "    Warning\n",
            "    Error\n",
            "        CancelledError\n",
            "        TimeoutError\n",
            "        InvalidStateError\n",
            "    TimeoutError\n",
            "    InvalidStateError\n",
            "    LimitOverrunError\n",
            "    QueueEmpty\n",
            "    QueueFull\n",
            "    SpaceInInput\n",
            "    DOMException\n",
            "        IndexSizeErr\n",
            "        DomstringSizeErr\n",
            "        HierarchyRequestErr\n",
            "        WrongDocumentErr\n",
            "        InvalidCharacterErr\n",
            "        NoDataAllowedErr\n",
            "        NoModificationAllowedErr\n",
            "        NotFoundErr\n",
            "        NotSupportedErr\n",
            "        InuseAttributeErr\n",
            "        InvalidStateErr\n",
            "        SyntaxErr\n",
            "        InvalidModificationErr\n",
            "        NamespaceErr\n",
            "        InvalidAccessErr\n",
            "        ValidationErr\n",
            "    ValidationError\n",
            "    EditReadOnlyBuffer\n",
            "    _Retry\n",
            "    InvalidLayoutError\n",
            "    HeightIsUnknownError\n",
            "    ExpatError\n",
            "    ParseEscape\n",
            "    HTTPException\n",
            "        NotConnected\n",
            "        InvalidURL\n",
            "        UnknownProtocol\n",
            "        UnknownTransferEncoding\n",
            "        UnimplementedFileMode\n",
            "        IncompleteRead\n",
            "        ImproperConnectionState\n",
            "            CannotSendRequest\n",
            "            CannotSendHeader\n",
            "            ResponseNotReady\n",
            "        BadStatusLine\n",
            "            RemoteDisconnected\n",
            "        LineTooLong\n",
            "    InteractivelyDefined\n",
            "    KillEmbedded\n",
            "    ArgumentError\n",
            "    ZMQBaseError\n",
            "        ZMQError\n",
            "            ContextTerminated\n",
            "            Again\n",
            "            InterruptedSystemCall\n",
            "        ZMQBindError\n",
            "        NotDone\n",
            "    NoIPAddresses\n",
            "    Error\n",
            "        NoSectionError\n",
            "        DuplicateSectionError\n",
            "        DuplicateOptionError\n",
            "        NoOptionError\n",
            "        InterpolationError\n",
            "            InterpolationMissingOptionError\n",
            "            InterpolationSyntaxError\n",
            "            InterpolationDepthError\n",
            "        ParsingError\n",
            "            MissingSectionHeaderError\n",
            "    InvalidPortNumber\n",
            "    DuplicateKernelError\n",
            "    error\n",
            "    ReturnValueIgnoredError\n",
            "    KeyReuseError\n",
            "    UnknownKeyError\n",
            "    LeakedCallbackError\n",
            "    BadYieldError\n",
            "    ReturnValueIgnoredError\n",
            "    Return\n",
            "    QueueEmpty\n",
            "    QueueFull\n",
            "    IPythonError\n",
            "        KernelError\n",
            "            EngineError\n",
            "            NoEnginesRegistered\n",
            "            TaskAborted\n",
            "            TaskTimeout\n",
            "            UnmetDependency\n",
            "                ImpossibleDependency\n",
            "                    DependencyTimeout\n",
            "                    InvalidDependency\n",
            "            RemoteError\n",
            "                CompositeError\n",
            "                AlreadyDisplayedError\n",
            "            TaskRejectError\n",
            "    ProcessError\n",
            "        BufferTooShort\n",
            "        TimeoutError\n",
            "        AuthenticationError\n",
            "    BadEntryPoint\n",
            "    NoSuchEntryPoint\n",
            "    Error\n",
            "        NoSuchProcess\n",
            "            ZombieProcess\n",
            "        AccessDenied\n",
            "        TimeoutExpired\n",
            "    _Ipv6UnsupportedError\n",
            "    LauncherError\n",
            "        ProcessStateError\n",
            "        UnknownStatus\n",
            "        NotRunning\n",
            "    DistutilsError\n",
            "        DistutilsModuleError\n",
            "        DistutilsClassError\n",
            "        DistutilsGetoptError\n",
            "        DistutilsArgError\n",
            "        DistutilsFileError\n",
            "        DistutilsOptionError\n",
            "            InvalidConfigError\n",
            "            RemovedConfigError\n",
            "        DistutilsSetupError\n",
            "        DistutilsPlatformError\n",
            "        DistutilsExecError\n",
            "        DistutilsInternalError\n",
            "        DistutilsTemplateError\n",
            "        DistutilsByteCompileError\n",
            "        RemovedCommandError\n",
            "        PackageDiscoveryError\n",
            "    CCompilerError\n",
            "        PreprocessError\n",
            "        CompileError\n",
            "        LibError\n",
            "        LinkError\n",
            "        UnknownFileError\n",
            "    TarError\n",
            "        ExtractError\n",
            "        ReadError\n",
            "        CompressionError\n",
            "        StreamError\n",
            "        HeaderError\n",
            "            EmptyHeaderError\n",
            "            TruncatedHeaderError\n",
            "            EOFHeaderError\n",
            "            InvalidHeaderError\n",
            "            SubsequentHeaderError\n",
            "        FilterError\n",
            "            AbsolutePathError\n",
            "            OutsideDestinationError\n",
            "            SpecialFileError\n",
            "            AbsoluteLinkError\n",
            "            LinkOutsideDestinationError\n",
            "    ParserSyntaxError\n",
            "    Error\n",
            "        AuthorizationError\n",
            "        RuntimeManagementError\n",
            "        MessageError\n",
            "    WidgetException\n",
            "    JsException\n",
            "    ConverterError\n",
            "        ConverterLockError\n",
            "    MAError\n",
            "        MaskError\n",
            "    FormattedTracebackError\n",
            "    ParseBaseException\n",
            "        ParseException\n",
            "        ParseFatalException\n",
            "            ParseSyntaxException\n",
            "    RecursiveGrammarException\n",
            "    _ParseActionIndexError\n",
            "    HttpLib2Error\n",
            "        HttpLib2ErrorWithResponse\n",
            "            RedirectMissingLocation\n",
            "            RedirectLimit\n",
            "            FailedToDecompressContent\n",
            "            UnimplementedDigestAuthOptionError\n",
            "            UnimplementedHmacDigestAuthOptionError\n",
            "        MalformedHeader\n",
            "        RelativeURIError\n",
            "        ServerNotFoundError\n",
            "        ProxiesUnavailableError\n",
            "    DecompressionBombError\n",
            "    BadRequiredStrength\n",
            "    DuplicateConstraint\n",
            "    DuplicateEditVariable\n",
            "    UnknownConstraint\n",
            "    UnknownEditVariable\n",
            "    UnsatisfiableConstraint\n",
            "    NonGuiException\n",
            "    InvalidIndexError\n",
            "    TerminateTrajectory\n",
            "    NoFreePortFoundError\n",
            "    DebuggerInitializationError\n",
            "    Error\n",
            "        ProtocolError\n",
            "        ResponseError\n",
            "        Fault\n",
            "    _Error\n",
            "    UnableToResolveVariableException\n",
            "    InvalidTypeInArgsException\n"
          ]
        }
      ]
    },
    {
      "cell_type": "markdown",
      "source": [
        "Q3. What errors are defined in the ArithmeticError class? Explain any two with an example."
      ],
      "metadata": {
        "id": "suSEbm7GzJPR"
      }
    },
    {
      "cell_type": "markdown",
      "source": [
        "Answer:-\n",
        "\n",
        "In Python, the ArithmeticError class is a base class for exceptions that occur during numeric calculations. It includes several specific errors, but two of the most common ones are ZeroDivisionError and OverflowError. Let’s take a closer look at each of these.\n",
        "\n",
        "1.ZeroDivisionError\n",
        "\n",
        "This error happens when you try to divide a number by zero. In mathematics, dividing by zero is undefined, and Python raises this error to let you know that something went wrong.\n",
        "\n",
        "Example:"
      ],
      "metadata": {
        "id": "1R8EVXqSzJvF"
      }
    },
    {
      "cell_type": "code",
      "source": [
        "try:\n",
        "    result = 10 / 0\n",
        "except ZeroDivisionError as e:\n",
        "    print(f\"Oops! An error occurred: {e}\")"
      ],
      "metadata": {
        "colab": {
          "base_uri": "https://localhost:8080/"
        },
        "id": "SFo8-z1-zudd",
        "outputId": "c123a3ea-e27b-4549-f7cc-8696051b65de"
      },
      "execution_count": 2,
      "outputs": [
        {
          "output_type": "stream",
          "name": "stdout",
          "text": [
            "Oops! An error occurred: division by zero\n"
          ]
        }
      ]
    },
    {
      "cell_type": "markdown",
      "source": [
        "In this example, we attempted to divide 10 by 0, which is not allowed. Python raises a ZeroDivisionError, and we catch it in the except block, printing a friendly message that indicates what went wrong."
      ],
      "metadata": {
        "id": "ZKkOU_Ybzysd"
      }
    },
    {
      "cell_type": "markdown",
      "source": [
        "2.OverflowError\n",
        "\n",
        "This error occurs when a calculation produces a result that is too large to be represented within the limits of the numeric type. For instance, if you try to create a number that exceeds the maximum size that Python can handle, you’ll run into this error.\n",
        "\n",
        "Example:\n"
      ],
      "metadata": {
        "id": "twUgp-Gxzzzs"
      }
    },
    {
      "cell_type": "code",
      "source": [
        "import sys\n",
        "\n",
        "try:\n",
        "    # Trying to create a very large number\n",
        "    large_number = 10 ** 1000  # This is a huge number\n",
        "    print(large_number)\n",
        "except OverflowError as e:\n",
        "    print(f\"Oops! An overflow error occurred: {e}\")"
      ],
      "metadata": {
        "colab": {
          "base_uri": "https://localhost:8080/"
        },
        "id": "7LCBV2i6zzaG",
        "outputId": "560a5d4d-2b7c-4971-f130-ca0a68618c97"
      },
      "execution_count": 3,
      "outputs": [
        {
          "output_type": "stream",
          "name": "stdout",
          "text": [
            "10000000000000000000000000000000000000000000000000000000000000000000000000000000000000000000000000000000000000000000000000000000000000000000000000000000000000000000000000000000000000000000000000000000000000000000000000000000000000000000000000000000000000000000000000000000000000000000000000000000000000000000000000000000000000000000000000000000000000000000000000000000000000000000000000000000000000000000000000000000000000000000000000000000000000000000000000000000000000000000000000000000000000000000000000000000000000000000000000000000000000000000000000000000000000000000000000000000000000000000000000000000000000000000000000000000000000000000000000000000000000000000000000000000000000000000000000000000000000000000000000000000000000000000000000000000000000000000000000000000000000000000000000000000000000000000000000000000000000000000000000000000000000000000000000000000000000000000000000000000000000000000000000000000000000000000000000000000000000000000000000000000000000000000000000000000000000000\n"
          ]
        }
      ]
    },
    {
      "cell_type": "markdown",
      "source": [
        "Q4. Why LookupError class is used? Explain with an example KeyError and IndexError."
      ],
      "metadata": {
        "id": "853u3xfn0Ch8"
      }
    },
    {
      "cell_type": "markdown",
      "source": [
        "Answer:-\n",
        "\n",
        "In Python, the LookupError class is a base class for exceptions that occur when you try to access an element in a collection (like a list or dictionary) using a key or index that doesn’t exist. It helps to categorize errors that arise from failed lookups, making it easier to handle them in your code.\n",
        "\n",
        "Two common exceptions that fall under LookupError are KeyError and IndexError. Let’s break these down with some examples.\n",
        "\n",
        "1.KeyError\n",
        "\n",
        "A KeyError is raised when you try to access a dictionary using a key that isn’t present in that dictionary. This is a common mistake when working with dictionaries, especially if you’re not sure whether a key exists.\n",
        "\n",
        "Example:\n",
        "\n"
      ],
      "metadata": {
        "id": "0gNPMdBS0C9k"
      }
    },
    {
      "cell_type": "code",
      "source": [
        "my_dict = {'name': 'Ashish', 'age': 24}\n",
        "\n",
        "try:\n",
        "    # Attempting to access a key that doesn't exist\n",
        "    value = my_dict['gender']\n",
        "except KeyError as e:\n",
        "    print(f\"Oops! The key '{e}' was not found in the dictionary.\")"
      ],
      "metadata": {
        "colab": {
          "base_uri": "https://localhost:8080/"
        },
        "id": "F0YSxbZ20qsV",
        "outputId": "3d8a2671-7ce2-4c64-9abe-bfefe81dbc07"
      },
      "execution_count": 5,
      "outputs": [
        {
          "output_type": "stream",
          "name": "stdout",
          "text": [
            "Oops! The key ''gender'' was not found in the dictionary.\n"
          ]
        }
      ]
    },
    {
      "cell_type": "markdown",
      "source": [
        "In the above example, we have a dictionary with keys for name and age. When we try to access the key gender, which doesn’t exist, Python raises a KeyError. We catch this error and print a friendly message to let us know what went wrong.\n",
        "\n"
      ],
      "metadata": {
        "id": "TgayT3F50qHt"
      }
    },
    {
      "cell_type": "markdown",
      "source": [
        "2.IndexError\n",
        "\n",
        "An IndexError occurs when you try to access an index in a list (or any sequence) that is out of range. This usually happens when you try to access an index that doesn’t exist, like trying to get the fifth item from a list that only has three items.\n",
        "\n",
        "Example:\n"
      ],
      "metadata": {
        "id": "N-1ZN01e089s"
      }
    },
    {
      "cell_type": "code",
      "source": [
        "my_list = [10, 20, 30]\n",
        "\n",
        "try:\n",
        "    # Trying to access an index that is out of range\n",
        "    value = my_list[5]\n",
        "except IndexError as e:\n",
        "    print(f\"Oops! An IndexError occurred: {e}\")"
      ],
      "metadata": {
        "colab": {
          "base_uri": "https://localhost:8080/"
        },
        "id": "Ocdl7Pfs1EKs",
        "outputId": "1b056871-b690-48cb-8050-5564cc909fea"
      },
      "execution_count": 6,
      "outputs": [
        {
          "output_type": "stream",
          "name": "stdout",
          "text": [
            "Oops! An IndexError occurred: list index out of range\n"
          ]
        }
      ]
    },
    {
      "cell_type": "markdown",
      "source": [
        "In this case, we have a list with three elements. When we try to access the index 5, which is beyond the available indices, Python raises an IndexError. Again, we catch this error and print a message to inform us about the issue.\n",
        "\n",
        "\n",
        "\n",
        "\n",
        "\n"
      ],
      "metadata": {
        "id": "Vpu-CJJ01Lpu"
      }
    },
    {
      "cell_type": "markdown",
      "source": [
        "Summary\n",
        "\n",
        "So, in summary, the LookupError class helps us manage errors related to accessing elements in collections. KeyError and IndexError are two specific types of lookup errors that you might encounter frequently. By handling these exceptions, you can make your code more robust and user-friendly, providing clear feedback when something goes wrong."
      ],
      "metadata": {
        "id": "fyMMLJ4y1Yks"
      }
    },
    {
      "cell_type": "markdown",
      "source": [
        "Q5. Explain ImportError. What is ModuleNotFoundError?"
      ],
      "metadata": {
        "id": "pDIRV-6x2Tbu"
      }
    },
    {
      "cell_type": "markdown",
      "source": [
        "Answer:-\n",
        "\n",
        "ImportError is a general error that occurs when Python can’t import a module. This could happen for a few reasons, like if the module doesn’t exist or if there’s a problem with the module itself.\n",
        "\n",
        "Common Reasons:\n",
        "\n",
        "Misspelled Module Name: If you accidentally type the wrong name, Python won’t be able to find it.\n",
        "\n",
        "Circular Imports: This happens when two modules try to import each other, which can confuse Python.\n",
        "\n",
        "Issues in the Module: If the module has errors (like syntax errors), it won’t load properly."
      ],
      "metadata": {
        "id": "Olab7tPk2T6c"
      }
    },
    {
      "cell_type": "code",
      "source": [
        "try:\n",
        "    from math import non_existent_function\n",
        "except ImportError as e:\n",
        "    print(f\"ImportError: {e}\")"
      ],
      "metadata": {
        "colab": {
          "base_uri": "https://localhost:8080/"
        },
        "id": "sP8mJEtA2Znl",
        "outputId": "a31fb3be-4ca9-430c-eaf0-6771ebc85385"
      },
      "execution_count": 7,
      "outputs": [
        {
          "output_type": "stream",
          "name": "stdout",
          "text": [
            "ImportError: cannot import name 'non_existent_function' from 'math' (unknown location)\n"
          ]
        }
      ]
    },
    {
      "cell_type": "markdown",
      "source": [
        "In the above example, we tried to import a function that doesn’t exist in the math module, leading to an ImportError.\n",
        "\n"
      ],
      "metadata": {
        "id": "09ec8z8q2e3F"
      }
    },
    {
      "cell_type": "markdown",
      "source": [
        "ModuleNotFoundError is a more specific error that tells you that Python can’t find the module you’re trying to import. This error is a subclass of ImportError and was introduced in Python 3.6 to make it clearer when a module is simply missing.\n",
        "\n",
        "Common Reasons:\n",
        "\n",
        "Module Not Installed: If you haven’t installed the module yet, Python won’t be able to find it.\n",
        "\n",
        "Wrong Path: The module might not be in the directory where Python is looking.\n",
        "\n",
        "Typos: Just like with ImportError, a simple typo can lead to this error.\n",
        "Example:"
      ],
      "metadata": {
        "id": "4QYMUpHQ2iXh"
      }
    },
    {
      "cell_type": "code",
      "source": [
        "try:\n",
        "    import non_existent_module\n",
        "except ModuleNotFoundError as e:\n",
        "    print(f\"ModuleNotFoundError: {e}\")"
      ],
      "metadata": {
        "colab": {
          "base_uri": "https://localhost:8080/"
        },
        "id": "b8w_-hQ12tbN",
        "outputId": "585eb6a9-ac29-435c-8c9d-c02408565a2c"
      },
      "execution_count": 8,
      "outputs": [
        {
          "output_type": "stream",
          "name": "stdout",
          "text": [
            "ModuleNotFoundError: No module named 'non_existent_module'\n"
          ]
        }
      ]
    },
    {
      "cell_type": "markdown",
      "source": [
        "Q6. List down some best practices for exception handling in python."
      ],
      "metadata": {
        "id": "qAj36MEQ26gN"
      }
    },
    {
      "cell_type": "markdown",
      "source": [
        "Answer:-\n",
        "\n",
        "Here are some best practices for exception handling in Python:\n",
        "\n",
        "1.Catch specific exceptions: Rather than catching the broad Exception class, it is recommended to catch specific exceptions that you expect to occur in your code. This allows you to handle different types of exceptions differently, and to provide more meaningful error messages.\n",
        "\n",
        "2.Provide informative error messages: When raising or catching exceptions, it is helpful to include information about the error that has occurred. This can make it easier to diagnose and fix the problem.\n",
        "\n",
        "3.Use exceptions for exceptional situations: Exceptions should be used to handle unexpected or exceptional situations that cannot be handled through normal control flow. Don't use exceptions for normal control flow, such as to check if a file exists before opening it.\n",
        "\n",
        "4.Avoid using exceptions for control flow: Exceptions should not be used as a mechanism for control flow. Instead, use a simple if statement or another control flow construct to check for expected conditions.\n",
        "\n",
        "5.Don't ignore exceptions: When you catch an exception, it is important to handle it properly, rather than just ignoring it. Ignoring exceptions can lead to unexpected behavior and can make it more difficult to diagnose and fix problems.\n",
        "\n",
        "6.Use finally to clean up resources: The finally clause can be used to ensure that resources are properly cleaned up, even if an exception occurs. This can include closing files, releasing resources, and restoring the state of the program.\n",
        "\n",
        "7.Consider using context managers: Context managers are a convenient way to manage resources in a Python program. They allow you to wrap a block of code that requires a resource, and automatically clean up the resource when the block of code has completed."
      ],
      "metadata": {
        "id": "xGcIqeAH27a9"
      }
    }
  ]
}